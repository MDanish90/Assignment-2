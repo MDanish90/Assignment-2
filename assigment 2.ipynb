{
 "cells": [
  {
   "cell_type": "code",
   "execution_count": 22,
   "metadata": {},
   "outputs": [
    {
     "name": "stdout",
     "output_type": "stream",
     "text": [
      " 1234\n",
      " 123\n",
      " 12\n",
      " 1\n",
      " \n"
     ]
    }
   ],
   "source": [
    "user = int(input(\"Enter the number: \"))\n",
    "\n",
    "for i in range(1,user):\n",
    "    print(\" \",end=\"\")\n",
    "    for j in range(1,user-i):\n",
    "        print(j,end=\"\")\n",
    "    print()"
   ]
  },
  {
   "cell_type": "code",
   "execution_count": 3,
   "metadata": {},
   "outputs": [
    {
     "name": "stdout",
     "output_type": "stream",
     "text": [
      "100\n",
      "104\n",
      "108\n",
      "112\n",
      "116\n",
      "120\n",
      "124\n",
      "128\n",
      "132\n",
      "136\n",
      "140\n",
      "144\n",
      "148\n"
     ]
    }
   ],
   "source": [
    "user = int(input(\"Enter the number: \"))\n",
    "\n",
    "for i in range(100,151):\n",
    "    if i%4==0:\n",
    "        print(i)\n",
    "\n",
    "    \n",
    "        "
   ]
  },
  {
   "cell_type": "code",
   "execution_count": 92,
   "metadata": {},
   "outputs": [
    {
     "name": "stdout",
     "output_type": "stream",
     "text": [
      "1--- is an Odd Number\n",
      "2--- is an Even Number\n",
      "3--- is an Odd Number\n",
      "4--- is an Even Number\n",
      "5--- is an Odd Number\n",
      "6--- is an Even Number\n",
      "7--- is an Odd Number\n",
      "8--- is an Even Number\n",
      "9--- is an Odd Number\n"
     ]
    }
   ],
   "source": [
    "user=int(input(\"Enter The Number\"))\n",
    "\n",
    "for i in range(1,user):\n",
    "    if i % 2==0:\n",
    "        print(f\"{i}--- is an Even Number\" )\n",
    "    else:\n",
    "        print(f\"{i}--- is an Odd Number\")\n"
   ]
  },
  {
   "cell_type": "code",
   "execution_count": 99,
   "metadata": {},
   "outputs": [
    {
     "name": "stdout",
     "output_type": "stream",
     "text": [
      "0 1 1 2 3 5 8 13 "
     ]
    }
   ],
   "source": [
    "user=int(input(\"Enter The Number\"))\n",
    "a = 0\n",
    "b = 1\n",
    "c = 0\n",
    "for i in range(user):\n",
    "    print(c, end=\" \")\n",
    "    c = a+b\n",
    "    b = a\n",
    "    a = c "
   ]
  }
 ],
 "metadata": {
  "kernelspec": {
   "display_name": "Python 3",
   "language": "python",
   "name": "python3"
  },
  "language_info": {
   "codemirror_mode": {
    "name": "ipython",
    "version": 3
   },
   "file_extension": ".py",
   "mimetype": "text/x-python",
   "name": "python",
   "nbconvert_exporter": "python",
   "pygments_lexer": "ipython3",
   "version": "3.12.4"
  }
 },
 "nbformat": 4,
 "nbformat_minor": 2
}
